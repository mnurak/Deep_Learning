{
  "cells": [
    {
      "cell_type": "code",
      "execution_count": 1,
      "metadata": {
        "id": "AaDC8rgdtcRE"
      },
      "outputs": [],
      "source": [
        "import tensorflow as tf\n",
        "from tensorflow.keras import models, layers, optimizers, backend\n",
        "from tensorflow.keras.layers import Activation\n",
        "import numpy as np\n",
        "from math import *\n",
        "import matplotlib.pyplot as plt\n"
      ]
    },
    {
      "cell_type": "code",
      "execution_count": 2,
      "metadata": {},
      "outputs": [],
      "source": [
        "x = int(input(\"enter the number of features to be generated :\"))\n",
        "y = int(input(\"enter the number of features to be generated :\"))\n"
      ]
    },
    {
      "cell_type": "code",
      "execution_count": 3,
      "metadata": {
        "id": "K16jYgdZtgum"
      },
      "outputs": [],
      "source": [
        "def create_data(x,y = 1):\n",
        "    X = np.random.randn(1000, x)\n",
        "    if y == 1:\n",
        "        y = np.random.randn(1000, y) #for regression to have a single output\n",
        "    else:\n",
        "        y = np.random.randint(0, y, size=(1000, 1)) # to have a value between [0-y) for classification purpous\n",
        "    return X, y\n"
      ]
    },
    {
      "cell_type": "code",
      "execution_count": 4,
      "metadata": {},
      "outputs": [],
      "source": [
        "#we use tensorflow operation as we work in tensorflow so we cannot use direct mathamatical operations\n",
        "def relu(x):\n",
        "    return tf.maximum(0.0, x)     #max(0.0, x)\n",
        "\n",
        "def leaky_relu(x, alpha=0.01):\n",
        "    return  tf.where(x > 0, x, alpha * x)    #x if x >0 else alpha*x\n",
        "\n",
        "def tanh(x):\n",
        "    res = tf.exp(x) - tf.exp(-x)\n",
        "    res /= tf.exp(x) + tf.exp(-x)\n",
        "    return res\n",
        "\n",
        "def sigmoid(x):\n",
        "    return 1/(1 + tf.exp(-x))\n",
        "\n",
        "def elu(x, alpha = 0.005):\n",
        "    return tf.where(x>0, x, alpha*(tf.exp(x) - 1))     #x if x > 0 else alpha*(exp(x) - 1)\n",
        "\n",
        "def rand_Activation_function(x): #To randomly assign a activation function to the hidden layers\n",
        "    activations = [relu(x), leaky_relu(x), tanh(x), sigmoid(x),elu(x)]\n",
        "    i = np.random.randint(0, 5)  \n",
        "    return activations[i]\n"
      ]
    },
    {
      "cell_type": "code",
      "execution_count": 5,
      "metadata": {
        "id": "71r3b77HtkRT"
      },
      "outputs": [],
      "source": [
        "def create_model(x,y):\n",
        "    if y == 1:\n",
        "        out_layer = layers.Dense(1,activation='sigmoid') # to have a single unit output\n",
        "    else:\n",
        "        out_layer = layers.Dense(y, activation='softmax') #used for classification output\n",
        "    model = models.Sequential([\n",
        "        layers.Dense(50, activation=Activation(rand_Activation_function), input_shape=(x,)),\n",
        "        layers.Dropout(.5),\n",
        "        layers.Dense(25, activation=Activation(rand_Activation_function)),\n",
        "        layers.Dropout(.2),\n",
        "        out_layer\n",
        "    ])\n",
        "\n",
        "    return model\n"
      ]
    },
    {
      "cell_type": "code",
      "execution_count": 6,
      "metadata": {
        "id": "2Q_1g0gWtmy6"
      },
      "outputs": [],
      "source": [
        "def train_model(model, optimizer, X, y, batch_size, epochs, optimizer_name):\n",
        "  model.compile(optimizer=optimizer, loss='mean_squared_error')\n",
        "  history = []\n",
        "\n",
        "  for epoch in range(epochs):\n",
        "    hist = model.fit(X, y, batch_size=batch_size, epochs=1, verbose=0)\n",
        "    loss = hist.history['loss'][0]\n",
        "    history.append(loss)\n",
        "    print(f\"Epoch {epoch + 1}/{epochs} - {optimizer_name} Loss:{loss:.4f}\")\n",
        "\n",
        "  return history\n"
      ]
    },
    {
      "cell_type": "code",
      "execution_count": 7,
      "metadata": {
        "id": "TmyPy7Gnvf8y"
      },
      "outputs": [
        {
          "name": "stderr",
          "output_type": "stream",
          "text": [
            "d:\\applications\\programs\\Python311\\Lib\\site-packages\\keras\\src\\layers\\core\\dense.py:87: UserWarning: Do not pass an `input_shape`/`input_dim` argument to a layer. When using Sequential models, prefer using an `Input(shape)` object as the first layer in the model instead.\n",
            "  super().__init__(activity_regularizer=activity_regularizer, **kwargs)\n"
          ]
        },
        {
          "data": {
            "text/html": [
              "<pre style=\"white-space:pre;overflow-x:auto;line-height:normal;font-family:Menlo,'DejaVu Sans Mono',consolas,'Courier New',monospace\"><span style=\"font-weight: bold\">Model: \"sequential_1\"</span>\n",
              "</pre>\n"
            ],
            "text/plain": [
              "\u001b[1mModel: \"sequential_1\"\u001b[0m\n"
            ]
          },
          "metadata": {},
          "output_type": "display_data"
        },
        {
          "data": {
            "text/html": [
              "<pre style=\"white-space:pre;overflow-x:auto;line-height:normal;font-family:Menlo,'DejaVu Sans Mono',consolas,'Courier New',monospace\">┏━━━━━━━━━━━━━━━━━━━━━━━━━━━━━━━━━┳━━━━━━━━━━━━━━━━━━━━━━━━┳━━━━━━━━━━━━━━━┓\n",
              "┃<span style=\"font-weight: bold\"> Layer (type)                    </span>┃<span style=\"font-weight: bold\"> Output Shape           </span>┃<span style=\"font-weight: bold\">       Param # </span>┃\n",
              "┡━━━━━━━━━━━━━━━━━━━━━━━━━━━━━━━━━╇━━━━━━━━━━━━━━━━━━━━━━━━╇━━━━━━━━━━━━━━━┩\n",
              "│ dense_4 (<span style=\"color: #0087ff; text-decoration-color: #0087ff\">Dense</span>)                 │ (<span style=\"color: #00d7ff; text-decoration-color: #00d7ff\">None</span>, <span style=\"color: #00af00; text-decoration-color: #00af00\">50</span>)             │           <span style=\"color: #00af00; text-decoration-color: #00af00\">550</span> │\n",
              "├─────────────────────────────────┼────────────────────────┼───────────────┤\n",
              "│ dropout_2 (<span style=\"color: #0087ff; text-decoration-color: #0087ff\">Dropout</span>)             │ (<span style=\"color: #00d7ff; text-decoration-color: #00d7ff\">None</span>, <span style=\"color: #00af00; text-decoration-color: #00af00\">50</span>)             │             <span style=\"color: #00af00; text-decoration-color: #00af00\">0</span> │\n",
              "├─────────────────────────────────┼────────────────────────┼───────────────┤\n",
              "│ dense_5 (<span style=\"color: #0087ff; text-decoration-color: #0087ff\">Dense</span>)                 │ (<span style=\"color: #00d7ff; text-decoration-color: #00d7ff\">None</span>, <span style=\"color: #00af00; text-decoration-color: #00af00\">25</span>)             │         <span style=\"color: #00af00; text-decoration-color: #00af00\">1,275</span> │\n",
              "├─────────────────────────────────┼────────────────────────┼───────────────┤\n",
              "│ dropout_3 (<span style=\"color: #0087ff; text-decoration-color: #0087ff\">Dropout</span>)             │ (<span style=\"color: #00d7ff; text-decoration-color: #00d7ff\">None</span>, <span style=\"color: #00af00; text-decoration-color: #00af00\">25</span>)             │             <span style=\"color: #00af00; text-decoration-color: #00af00\">0</span> │\n",
              "├─────────────────────────────────┼────────────────────────┼───────────────┤\n",
              "│ dense_3 (<span style=\"color: #0087ff; text-decoration-color: #0087ff\">Dense</span>)                 │ (<span style=\"color: #00d7ff; text-decoration-color: #00d7ff\">None</span>, <span style=\"color: #00af00; text-decoration-color: #00af00\">1</span>)              │            <span style=\"color: #00af00; text-decoration-color: #00af00\">26</span> │\n",
              "└─────────────────────────────────┴────────────────────────┴───────────────┘\n",
              "</pre>\n"
            ],
            "text/plain": [
              "┏━━━━━━━━━━━━━━━━━━━━━━━━━━━━━━━━━┳━━━━━━━━━━━━━━━━━━━━━━━━┳━━━━━━━━━━━━━━━┓\n",
              "┃\u001b[1m \u001b[0m\u001b[1mLayer (type)                   \u001b[0m\u001b[1m \u001b[0m┃\u001b[1m \u001b[0m\u001b[1mOutput Shape          \u001b[0m\u001b[1m \u001b[0m┃\u001b[1m \u001b[0m\u001b[1m      Param #\u001b[0m\u001b[1m \u001b[0m┃\n",
              "┡━━━━━━━━━━━━━━━━━━━━━━━━━━━━━━━━━╇━━━━━━━━━━━━━━━━━━━━━━━━╇━━━━━━━━━━━━━━━┩\n",
              "│ dense_4 (\u001b[38;5;33mDense\u001b[0m)                 │ (\u001b[38;5;45mNone\u001b[0m, \u001b[38;5;34m50\u001b[0m)             │           \u001b[38;5;34m550\u001b[0m │\n",
              "├─────────────────────────────────┼────────────────────────┼───────────────┤\n",
              "│ dropout_2 (\u001b[38;5;33mDropout\u001b[0m)             │ (\u001b[38;5;45mNone\u001b[0m, \u001b[38;5;34m50\u001b[0m)             │             \u001b[38;5;34m0\u001b[0m │\n",
              "├─────────────────────────────────┼────────────────────────┼───────────────┤\n",
              "│ dense_5 (\u001b[38;5;33mDense\u001b[0m)                 │ (\u001b[38;5;45mNone\u001b[0m, \u001b[38;5;34m25\u001b[0m)             │         \u001b[38;5;34m1,275\u001b[0m │\n",
              "├─────────────────────────────────┼────────────────────────┼───────────────┤\n",
              "│ dropout_3 (\u001b[38;5;33mDropout\u001b[0m)             │ (\u001b[38;5;45mNone\u001b[0m, \u001b[38;5;34m25\u001b[0m)             │             \u001b[38;5;34m0\u001b[0m │\n",
              "├─────────────────────────────────┼────────────────────────┼───────────────┤\n",
              "│ dense_3 (\u001b[38;5;33mDense\u001b[0m)                 │ (\u001b[38;5;45mNone\u001b[0m, \u001b[38;5;34m1\u001b[0m)              │            \u001b[38;5;34m26\u001b[0m │\n",
              "└─────────────────────────────────┴────────────────────────┴───────────────┘\n"
            ]
          },
          "metadata": {},
          "output_type": "display_data"
        },
        {
          "data": {
            "text/html": [
              "<pre style=\"white-space:pre;overflow-x:auto;line-height:normal;font-family:Menlo,'DejaVu Sans Mono',consolas,'Courier New',monospace\"><span style=\"font-weight: bold\"> Total params: </span><span style=\"color: #00af00; text-decoration-color: #00af00\">1,851</span> (7.23 KB)\n",
              "</pre>\n"
            ],
            "text/plain": [
              "\u001b[1m Total params: \u001b[0m\u001b[38;5;34m1,851\u001b[0m (7.23 KB)\n"
            ]
          },
          "metadata": {},
          "output_type": "display_data"
        },
        {
          "data": {
            "text/html": [
              "<pre style=\"white-space:pre;overflow-x:auto;line-height:normal;font-family:Menlo,'DejaVu Sans Mono',consolas,'Courier New',monospace\"><span style=\"font-weight: bold\"> Trainable params: </span><span style=\"color: #00af00; text-decoration-color: #00af00\">1,851</span> (7.23 KB)\n",
              "</pre>\n"
            ],
            "text/plain": [
              "\u001b[1m Trainable params: \u001b[0m\u001b[38;5;34m1,851\u001b[0m (7.23 KB)\n"
            ]
          },
          "metadata": {},
          "output_type": "display_data"
        },
        {
          "data": {
            "text/html": [
              "<pre style=\"white-space:pre;overflow-x:auto;line-height:normal;font-family:Menlo,'DejaVu Sans Mono',consolas,'Courier New',monospace\"><span style=\"font-weight: bold\"> Non-trainable params: </span><span style=\"color: #00af00; text-decoration-color: #00af00\">0</span> (0.00 B)\n",
              "</pre>\n"
            ],
            "text/plain": [
              "\u001b[1m Non-trainable params: \u001b[0m\u001b[38;5;34m0\u001b[0m (0.00 B)\n"
            ]
          },
          "metadata": {},
          "output_type": "display_data"
        }
      ],
      "source": [
        "X_data, y_data = create_data(x,y)\n",
        "model_sgd = create_model(x,y)\n",
        "model_adam = create_model(x,y)\n",
        "\n",
        "#as both model follow the same summary\n",
        "model_adam.summary()\n"
      ]
    },
    {
      "cell_type": "code",
      "execution_count": 8,
      "metadata": {
        "id": "kvmaXcHuwmo6"
      },
      "outputs": [],
      "source": [
        "optimizer_sgd = optimizers.SGD(learning_rate = 0.01)\n",
        "optimizer_adam = optimizers.Adam(learning_rate = 0.001)\n",
        "\n",
        "epochs = 50\n",
        "batch_size = 32\n"
      ]
    },
    {
      "cell_type": "code",
      "execution_count": 9,
      "metadata": {
        "colab": {
          "base_uri": "https://localhost:8080/"
        },
        "id": "tui2v0bpxW7J",
        "outputId": "43695488-551c-4508-a9a8-daa0d828cc23"
      },
      "outputs": [
        {
          "name": "stdout",
          "output_type": "stream",
          "text": [
            "\n",
            "Training with SGD optimizer:\n",
            "Epoch 1/50 - SGD Loss:1.2791\n",
            "Epoch 2/50 - SGD Loss:1.1872\n",
            "Epoch 3/50 - SGD Loss:1.1251\n",
            "Epoch 4/50 - SGD Loss:1.0890\n",
            "Epoch 5/50 - SGD Loss:1.0702\n",
            "Epoch 6/50 - SGD Loss:1.0435\n",
            "Epoch 7/50 - SGD Loss:1.0398\n",
            "Epoch 8/50 - SGD Loss:1.0312\n",
            "Epoch 9/50 - SGD Loss:1.0379\n",
            "Epoch 10/50 - SGD Loss:1.0364\n",
            "Epoch 11/50 - SGD Loss:1.0208\n",
            "Epoch 12/50 - SGD Loss:1.0325\n",
            "Epoch 13/50 - SGD Loss:1.0231\n",
            "Epoch 14/50 - SGD Loss:1.0220\n",
            "Epoch 15/50 - SGD Loss:1.0226\n",
            "Epoch 16/50 - SGD Loss:1.0248\n",
            "Epoch 17/50 - SGD Loss:1.0188\n",
            "Epoch 18/50 - SGD Loss:1.0182\n",
            "Epoch 19/50 - SGD Loss:1.0163\n",
            "Epoch 20/50 - SGD Loss:1.0221\n",
            "Epoch 21/50 - SGD Loss:1.0219\n",
            "Epoch 22/50 - SGD Loss:1.0149\n",
            "Epoch 23/50 - SGD Loss:1.0138\n",
            "Epoch 24/50 - SGD Loss:1.0141\n",
            "Epoch 25/50 - SGD Loss:1.0107\n",
            "Epoch 26/50 - SGD Loss:1.0097\n",
            "Epoch 27/50 - SGD Loss:1.0166\n",
            "Epoch 28/50 - SGD Loss:1.0145\n",
            "Epoch 29/50 - SGD Loss:1.0108\n",
            "Epoch 30/50 - SGD Loss:1.0093\n",
            "Epoch 31/50 - SGD Loss:1.0077\n",
            "Epoch 32/50 - SGD Loss:1.0129\n",
            "Epoch 33/50 - SGD Loss:1.0102\n",
            "Epoch 34/50 - SGD Loss:1.0072\n",
            "Epoch 35/50 - SGD Loss:1.0079\n",
            "Epoch 36/50 - SGD Loss:1.0077\n",
            "Epoch 37/50 - SGD Loss:1.0107\n",
            "Epoch 38/50 - SGD Loss:1.0135\n",
            "Epoch 39/50 - SGD Loss:1.0131\n",
            "Epoch 40/50 - SGD Loss:1.0054\n",
            "Epoch 41/50 - SGD Loss:1.0138\n",
            "Epoch 42/50 - SGD Loss:1.0137\n",
            "Epoch 43/50 - SGD Loss:1.0090\n",
            "Epoch 44/50 - SGD Loss:1.0093\n",
            "Epoch 45/50 - SGD Loss:1.0129\n",
            "Epoch 46/50 - SGD Loss:1.0149\n",
            "Epoch 47/50 - SGD Loss:1.0080\n",
            "Epoch 48/50 - SGD Loss:1.0078\n",
            "Epoch 49/50 - SGD Loss:1.0082\n",
            "Epoch 50/50 - SGD Loss:1.0112\n",
            "\n",
            "Training with Adam optimizer:\n",
            "Epoch 1/50 - Adam Loss:1.1954\n",
            "Epoch 2/50 - Adam Loss:1.0822\n",
            "Epoch 3/50 - Adam Loss:1.0466\n",
            "Epoch 4/50 - Adam Loss:1.0391\n",
            "Epoch 5/50 - Adam Loss:1.0230\n",
            "Epoch 6/50 - Adam Loss:1.0148\n",
            "Epoch 7/50 - Adam Loss:1.0123\n",
            "Epoch 8/50 - Adam Loss:1.0140\n",
            "Epoch 9/50 - Adam Loss:1.0160\n",
            "Epoch 10/50 - Adam Loss:1.0092\n",
            "Epoch 11/50 - Adam Loss:1.0057\n",
            "Epoch 12/50 - Adam Loss:1.0102\n",
            "Epoch 13/50 - Adam Loss:1.0052\n",
            "Epoch 14/50 - Adam Loss:1.0062\n",
            "Epoch 15/50 - Adam Loss:1.0068\n",
            "Epoch 16/50 - Adam Loss:1.0126\n",
            "Epoch 17/50 - Adam Loss:1.0096\n",
            "Epoch 18/50 - Adam Loss:1.0102\n",
            "Epoch 19/50 - Adam Loss:1.0059\n",
            "Epoch 20/50 - Adam Loss:1.0040\n",
            "Epoch 21/50 - Adam Loss:1.0046\n",
            "Epoch 22/50 - Adam Loss:1.0070\n",
            "Epoch 23/50 - Adam Loss:1.0036\n",
            "Epoch 24/50 - Adam Loss:1.0022\n",
            "Epoch 25/50 - Adam Loss:1.0048\n",
            "Epoch 26/50 - Adam Loss:1.0083\n",
            "Epoch 27/50 - Adam Loss:1.0029\n",
            "Epoch 28/50 - Adam Loss:1.0028\n",
            "Epoch 29/50 - Adam Loss:1.0025\n",
            "Epoch 30/50 - Adam Loss:1.0022\n",
            "Epoch 31/50 - Adam Loss:1.0011\n",
            "Epoch 32/50 - Adam Loss:1.0021\n",
            "Epoch 33/50 - Adam Loss:1.0009\n",
            "Epoch 34/50 - Adam Loss:0.9968\n",
            "Epoch 35/50 - Adam Loss:1.0042\n",
            "Epoch 36/50 - Adam Loss:0.9965\n",
            "Epoch 37/50 - Adam Loss:1.0003\n",
            "Epoch 38/50 - Adam Loss:1.0022\n",
            "Epoch 39/50 - Adam Loss:0.9956\n",
            "Epoch 40/50 - Adam Loss:0.9964\n",
            "Epoch 41/50 - Adam Loss:0.9965\n",
            "Epoch 42/50 - Adam Loss:0.9987\n",
            "Epoch 43/50 - Adam Loss:0.9899\n",
            "Epoch 44/50 - Adam Loss:1.0011\n",
            "Epoch 45/50 - Adam Loss:0.9933\n",
            "Epoch 46/50 - Adam Loss:0.9954\n",
            "Epoch 47/50 - Adam Loss:0.9986\n",
            "Epoch 48/50 - Adam Loss:0.9983\n",
            "Epoch 49/50 - Adam Loss:0.9907\n",
            "Epoch 50/50 - Adam Loss:0.9979\n"
          ]
        }
      ],
      "source": [
        "print(\"\\nTraining with SGD optimizer:\")\n",
        "sgd_loss = train_model(model_sgd, optimizer_sgd, X_data, y_data, batch_size, epochs, 'SGD')\n",
        "\n",
        "print(\"\\nTraining with Adam optimizer:\")\n",
        "adam_loss = train_model(model_adam, optimizer_adam, X_data, y_data, batch_size, epochs, 'Adam')\n"
      ]
    },
    {
      "cell_type": "code",
      "execution_count": 10,
      "metadata": {
        "colab": {
          "base_uri": "https://localhost:8080/",
          "height": 472
        },
        "id": "7LsUhpfXxxc6",
        "outputId": "4a014ef3-a2ac-4671-cc6d-ebba05b10e87"
      },
      "outputs": [
        {
          "data": {
            "image/png": "[encoded data removed]",
            "text/plain": [
              "<Figure size 640x480 with 1 Axes>"
            ]
          },
          "metadata": {},
          "output_type": "display_data"
        }
      ],
      "source": [
        "plt.plot(range(1, epochs + 1), sgd_loss, label='SGD', color='blue')\n",
        "plt.plot(range(1, epochs + 1), adam_loss, label='Adam', color='orange')\n",
        "plt.xlabel('Epochs')\n",
        "plt.ylabel('Loss')\n",
        "plt.title('SGD vs Adam optimizer: Loss Comparison')\n",
        "plt.legend()\n",
        "plt.grid(True)\n",
        "plt.show()\n"
      ]
    }
  ],
  "metadata": {
    "colab": {
      "provenance": []
    },
    "kernelspec": {
      "display_name": "Python 3",
      "name": "python3"
    },
    "language_info": {
      "codemirror_mode": {
        "name": "ipython",
        "version": 3
      },
      "file_extension": ".py",
      "mimetype": "text/x-python",
      "name": "python",
      "nbconvert_exporter": "python",
      "pygments_lexer": "ipython3",
      "version": "3.11.1"
    }
  },
  "nbformat": 4,
  "nbformat_minor": 0
}
